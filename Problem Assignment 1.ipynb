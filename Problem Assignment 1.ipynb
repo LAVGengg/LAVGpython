{
 "cells": [
  {
   "cell_type": "code",
   "execution_count": null,
   "id": "7fd32d1b-c905-45d7-8b72-c9e4a555c37f",
   "metadata": {},
   "outputs": [],
   "source": [
    "#Larssen Andre V. Guevarra | 2 ECE - C | PA#1"
   ]
  },
  {
   "cell_type": "code",
   "execution_count": null,
   "id": "abc67f35-3e6b-4c55-8268-986d49d14d83",
   "metadata": {},
   "outputs": [],
   "source": []
  },
  {
   "cell_type": "code",
   "execution_count": null,
   "id": "87346e89-45b3-4a2f-afa8-f2e866ef5bb3",
   "metadata": {},
   "outputs": [],
   "source": [
    "#Alphabet Soup Problem"
   ]
  },
  {
   "cell_type": "code",
   "execution_count": 1,
   "id": "6fb94a86-4937-405f-8cdc-9cd9635e072c",
   "metadata": {},
   "outputs": [
    {
     "name": "stdin",
     "output_type": "stream",
     "text": [
      "Enter a word: hello\n"
     ]
    },
    {
     "name": "stdout",
     "output_type": "stream",
     "text": [
      "ehllo\n"
     ]
    }
   ],
   "source": [
    "i = input (\"Enter a word:\")       #The users can enter any words they want to put\n",
    "\n",
    "def alphabetical_order (i):       #Calls the function to sort letters of the words alphabetically\n",
    "        return ''.join(sorted(i)) #Using sorted within the join fuction to sort the letters of the word\n",
    "                                  #Using join fuction to rejoin the letters together encapsulating the words but in an alphabetical order\n",
    "    \n",
    "print (alphabetical_order(i))     #Prints the output of the called function"
   ]
  },
  {
   "cell_type": "code",
   "execution_count": null,
   "id": "ae691889-754a-4992-95d7-742a4ed14df4",
   "metadata": {},
   "outputs": [],
   "source": []
  },
  {
   "cell_type": "code",
   "execution_count": null,
   "id": "1d23b153-aed1-4988-98da-761d71e1007a",
   "metadata": {},
   "outputs": [],
   "source": [
    "#Emoticon Problem"
   ]
  },
  {
   "cell_type": "code",
   "execution_count": 12,
   "id": "6adc4452-3a2b-45d2-a86f-0a915cc12e73",
   "metadata": {},
   "outputs": [
    {
     "name": "stdin",
     "output_type": "stream",
     "text": [
      "Enter your phrase (involving 'smile', 'grin', 'sad', 'mad'): I wanna make you smile\n"
     ]
    },
    {
     "name": "stdout",
     "output_type": "stream",
     "text": [
      "Emoted:I wanna make you :)\n"
     ]
    }
   ],
   "source": [
    "i = input (\"Enter your phrase (involving 'smile', 'grin', 'sad', 'mad'):\") #Asks the user to input a phrase with particular words\n",
    "\n",
    "def emotify(i):         #Calls the function to transform an emotion to an emoticon\n",
    "    sm = \"smile\" in i   #Is \"smile\" in the phrase?\n",
    "    if sm == True: \n",
    "        i = i.replace(\"smile\", \":)\") #If true, replace \"smile\" to \":)\"\n",
    "        \n",
    "    g = \"grin\" in i     #Is \"grin\" in the phrase?\n",
    "    if g == True:\n",
    "        i = i.replace(\"grin\", \":D\") #If true, replace \"grin\" to \":D\"\n",
    "        \n",
    "    sd = \"sad\" in i     #Is \"sad\" in the phrase?   \n",
    "    if sd == True:\n",
    "        i = i.replace(\"sad\", \":((\") #If true, replace \"sad\" to \":((\"\n",
    "\n",
    "    m = \"mad\" in i     #Is \"mad\" in the phrase?  \n",
    "    if m == True:\n",
    "        i = i.replace(\"mad\", \">:(\") #If true, replace \"mad\" to \">:(\"\n",
    "\n",
    "    print(\"Emoted:\" + i) #Prints the output formally\n",
    "\n",
    "emotify(i)            #Calls the sentence to emotify"
   ]
  },
  {
   "cell_type": "code",
   "execution_count": null,
   "id": "d933db49-0133-41b5-861f-1497404aaeb6",
   "metadata": {},
   "outputs": [],
   "source": []
  },
  {
   "cell_type": "code",
   "execution_count": null,
   "id": "af3ee3cd-ba52-4886-94b5-052eeec486a0",
   "metadata": {},
   "outputs": [],
   "source": [
    "#Unpacking List Problem"
   ]
  },
  {
   "cell_type": "code",
   "execution_count": 41,
   "id": "c1614053-b1bc-4b0a-8679-ed3cf23dc4a2",
   "metadata": {},
   "outputs": [
    {
     "name": "stdout",
     "output_type": "stream",
     "text": [
      "1st: [1, 2, 3, 4, 5, 6]\n",
      " \n",
      "First: 1  Middle: [2, 3, 4, 5]  Last: 6\n"
     ]
    }
   ],
   "source": [
    "numbers = [1,2,3,4,5,6] #Array of numbers 1-6\n",
    "print(\"1st:\", numbers)\n",
    "first = min(numbers) #Calls for the min of the numbers\n",
    "last = max(numbers) #Calls for the max of the numbers\n",
    "numbers.remove(first) #Remove the first variable or the min value in the array\n",
    "numbers.remove(last) #Remove the last variable or the max value in the array\n",
    "\n",
    "print(\" \")\n",
    "print(\"First:\", first, \" Middle:\", numbers, \" Last:\", last) #Prints the min, remaining, and max values in the array\n"
   ]
  }
 ],
 "metadata": {
  "kernelspec": {
   "display_name": "Python 3 (ipykernel)",
   "language": "python",
   "name": "python3"
  },
  "language_info": {
   "codemirror_mode": {
    "name": "ipython",
    "version": 3
   },
   "file_extension": ".py",
   "mimetype": "text/x-python",
   "name": "python",
   "nbconvert_exporter": "python",
   "pygments_lexer": "ipython3",
   "version": "3.13.5"
  }
 },
 "nbformat": 4,
 "nbformat_minor": 5
}
